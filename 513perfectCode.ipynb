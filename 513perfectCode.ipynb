{
  "nbformat": 4,
  "nbformat_minor": 0,
  "metadata": {
    "colab": {
      "provenance": [],
      "include_colab_link": true
    },
    "kernelspec": {
      "name": "python3",
      "display_name": "Python 3"
    },
    "language_info": {
      "name": "python"
    }
  },
  "cells": [
    {
      "cell_type": "markdown",
      "metadata": {
        "id": "view-in-github",
        "colab_type": "text"
      },
      "source": [
        "<a href=\"https://colab.research.google.com/github/Ombiyani/HomologicalQEC/blob/master/513perfectCode.ipynb\" target=\"_parent\"><img src=\"https://colab.research.google.com/assets/colab-badge.svg\" alt=\"Open In Colab\"/></a>"
      ]
    },
    {
      "cell_type": "code",
      "execution_count": null,
      "metadata": {
        "id": "KeQvK38N7tE0",
        "outputId": "68e3452d-98e3-43a9-b330-f690d41a85eb",
        "colab": {
          "base_uri": "https://localhost:8080/"
        }
      },
      "outputs": [
        {
          "output_type": "stream",
          "name": "stdout",
          "text": [
            "Collecting qiskit\n",
            "  Downloading qiskit-2.2.1-cp39-abi3-manylinux2014_x86_64.manylinux_2_17_x86_64.whl.metadata (12 kB)\n",
            "Collecting qiskit_aer\n",
            "  Downloading qiskit_aer-0.17.2-cp312-cp312-manylinux_2_17_x86_64.manylinux2014_x86_64.whl.metadata (8.3 kB)\n",
            "Collecting rustworkx>=0.15.0 (from qiskit)\n",
            "  Downloading rustworkx-0.17.1-cp39-abi3-manylinux_2_17_x86_64.manylinux2014_x86_64.whl.metadata (10 kB)\n",
            "Requirement already satisfied: numpy<3,>=1.17 in /usr/local/lib/python3.12/dist-packages (from qiskit) (2.0.2)\n",
            "Requirement already satisfied: scipy>=1.5 in /usr/local/lib/python3.12/dist-packages (from qiskit) (1.16.2)\n",
            "Requirement already satisfied: dill>=0.3 in /usr/local/lib/python3.12/dist-packages (from qiskit) (0.3.8)\n",
            "Collecting stevedore>=3.0.0 (from qiskit)\n",
            "  Downloading stevedore-5.5.0-py3-none-any.whl.metadata (2.2 kB)\n",
            "Requirement already satisfied: typing-extensions in /usr/local/lib/python3.12/dist-packages (from qiskit) (4.15.0)\n",
            "Requirement already satisfied: psutil>=5 in /usr/local/lib/python3.12/dist-packages (from qiskit_aer) (5.9.5)\n",
            "Requirement already satisfied: python-dateutil>=2.8.0 in /usr/local/lib/python3.12/dist-packages (from qiskit_aer) (2.9.0.post0)\n",
            "Requirement already satisfied: six>=1.5 in /usr/local/lib/python3.12/dist-packages (from python-dateutil>=2.8.0->qiskit_aer) (1.17.0)\n",
            "Downloading qiskit-2.2.1-cp39-abi3-manylinux2014_x86_64.manylinux_2_17_x86_64.whl (8.0 MB)\n",
            "\u001b[2K   \u001b[90m━━━━━━━━━━━━━━━━━━━━━━━━━━━━━━━━━━━━━━━━\u001b[0m \u001b[32m8.0/8.0 MB\u001b[0m \u001b[31m41.3 MB/s\u001b[0m eta \u001b[36m0:00:00\u001b[0m\n",
            "\u001b[?25hDownloading qiskit_aer-0.17.2-cp312-cp312-manylinux_2_17_x86_64.manylinux2014_x86_64.whl (12.4 MB)\n",
            "\u001b[2K   \u001b[90m━━━━━━━━━━━━━━━━━━━━━━━━━━━━━━━━━━━━━━━━\u001b[0m \u001b[32m12.4/12.4 MB\u001b[0m \u001b[31m33.8 MB/s\u001b[0m eta \u001b[36m0:00:00\u001b[0m\n",
            "\u001b[?25hDownloading rustworkx-0.17.1-cp39-abi3-manylinux_2_17_x86_64.manylinux2014_x86_64.whl (2.2 MB)\n",
            "\u001b[2K   \u001b[90m━━━━━━━━━━━━━━━━━━━━━━━━━━━━━━━━━━━━━━━━\u001b[0m \u001b[32m2.2/2.2 MB\u001b[0m \u001b[31m76.1 MB/s\u001b[0m eta \u001b[36m0:00:00\u001b[0m\n",
            "\u001b[?25hDownloading stevedore-5.5.0-py3-none-any.whl (49 kB)\n",
            "\u001b[2K   \u001b[90m━━━━━━━━━━━━━━━━━━━━━━━━━━━━━━━━━━━━━━━━\u001b[0m \u001b[32m49.5/49.5 kB\u001b[0m \u001b[31m3.7 MB/s\u001b[0m eta \u001b[36m0:00:00\u001b[0m\n",
            "\u001b[?25hInstalling collected packages: stevedore, rustworkx, qiskit, qiskit_aer\n",
            "Successfully installed qiskit-2.2.1 qiskit_aer-0.17.2 rustworkx-0.17.1 stevedore-5.5.0\n"
          ]
        }
      ],
      "source": [
        "!pip install qiskit qiskit_aer"
      ]
    },
    {
      "cell_type": "code",
      "source": [
        "import numpy as np\n",
        "import pandas as pd\n",
        "from qiskit import QuantumCircuit, QuantumRegister, ClassicalRegister, transpile\n",
        "from qiskit_aer import QasmSimulator"
      ],
      "metadata": {
        "id": "7Q51ncmaddRI"
      },
      "execution_count": null,
      "outputs": []
    },
    {
      "cell_type": "code",
      "source": [
        "\"\"\"\n",
        "This code implements the 5-qubit [[5,1,3]] quantum error-correcting code,\n",
        "also known as the perfect code, following the construction described in:\n",
        "\n",
        "- https://arxiv.org/pdf/1010.3242\n",
        "\n",
        "It defines logical basis states |0⟩ₗ and |1⟩ₗ, initializes arbitrary or random\n",
        "superpositions, applies stabilizer measurements, and simulates all single-qubit\n",
        "Pauli errors to extract the corresponding syndromes.\n",
        "\"\"\"\n",
        "np.random.seed(42)\n",
        "\n",
        "def get_logical_ket0():\n",
        "    return np.array([\n",
        "        1 / 4, 0, 0, 1 / 4, 0, -1 / 4, 1 / 4, 0,\n",
        "        0, -1 / 4, -1 / 4, 0, 1 / 4, 0, 0, -1 / 4,\n",
        "        0, 1 / 4, -1 / 4, 0, -1 / 4, 0, 0, -1 / 4,\n",
        "        1 / 4, 0, 0, -1 / 4, 0, -1 / 4, -1 / 4, 0\n",
        "    ])\n",
        "\n",
        "def get_logical_ket1():\n",
        "    return np.array([\n",
        "        0, -1 / 4, -1 / 4, 0, -1 / 4, 0, 0, 1 / 4,\n",
        "        -1 / 4, 0, 0, -1 / 4, 0, -1 / 4, 1 / 4, 0,\n",
        "        -1 / 4, 0, 0, 1 / 4, 0, -1 / 4, -1 / 4, 0,\n",
        "        0, 1 / 4, -1 / 4, 0, 1 / 4, 0, 0, 1 / 4\n",
        "    ])\n",
        "\n",
        "def initialize_logical_state(circuit, qubits, alpha=1, beta=0):\n",
        "    ket0 = get_logical_ket0()\n",
        "    ket1 = get_logical_ket1()\n",
        "    state = alpha * ket0 + beta * ket1\n",
        "    norm = np.linalg.norm(state)\n",
        "    state /= norm\n",
        "    init = QuantumCircuit(5)\n",
        "    init.initialize(state, range(5))\n",
        "    circuit.append(init.to_instruction(label=\"|psi_L>\"), qubits)\n",
        "\n",
        "def initialize_random_logical_state(circuit, qubits):\n",
        "    initialize_logical_state(circuit, qubits, np.random.rand(), np.random.rand())\n",
        "\n",
        "\n",
        "def apply_stabilizers(circuit, ancillas, data):\n",
        "    # S0 - IZXXZ\n",
        "    circuit.cz(ancillas[0], data[1])\n",
        "    circuit.cx(ancillas[0], data[2])\n",
        "    circuit.cx(ancillas[0], data[3])\n",
        "    circuit.cz(ancillas[0], data[4])\n",
        "    circuit.barrier()\n",
        "    # S1 - XXZIZ\n",
        "    circuit.cx(ancillas[1], data[0])\n",
        "    circuit.cx(ancillas[1], data[1])\n",
        "    circuit.cz(ancillas[1], data[2])\n",
        "    circuit.cz(ancillas[1], data[4])\n",
        "    circuit.barrier()\n",
        "    # S2 - XZIZX\n",
        "    circuit.cx(ancillas[2], data[0])\n",
        "    circuit.cz(ancillas[2], data[1])\n",
        "    circuit.cz(ancillas[2], data[3])\n",
        "    circuit.cx(ancillas[2], data[4])\n",
        "    circuit.barrier()\n",
        "    # S - ZIZXX\n",
        "    circuit.cz(ancillas[3], data[0])\n",
        "    circuit.cz(ancillas[3], data[2])\n",
        "    circuit.cx(ancillas[3], data[3])\n",
        "    circuit.cx(ancillas[3], data[4])\n",
        "    circuit.barrier()\n",
        "\n",
        "def iterate_single_qubit_errors():\n",
        "    backend = QasmSimulator()\n",
        "    errors = [\"x\", \"z\", \"y\"]\n",
        "    labels = [f\"{e.upper()}[{i}]\" for e in errors for i in range(5)]\n",
        "    syndromes = []\n",
        "\n",
        "    for err_type in errors:\n",
        "        for i in range(5):\n",
        "            anc = QuantumRegister(4, name=\"a\")\n",
        "            data = QuantumRegister(5, name=\"q\")\n",
        "            creg = ClassicalRegister(4)\n",
        "            qc = QuantumCircuit(anc, data, creg)\n",
        "\n",
        "            initialize_random_logical_state(qc, data) # Random superposition\n",
        "            qc.barrier()\n",
        "\n",
        "            getattr(qc, err_type)(data[i])\n",
        "            qc.barrier()\n",
        "\n",
        "            qc.h(anc)\n",
        "            qc.barrier()\n",
        "            apply_stabilizers(qc, anc, data)\n",
        "            qc.h(anc)\n",
        "            qc.barrier()\n",
        "            qc.measure(anc, creg)\n",
        "\n",
        "            job = backend.run(transpile(qc, backend), shots=128)\n",
        "            result = job.result().get_counts()\n",
        "            assert len(result) == 1  # Should only produce one syndrome\n",
        "            syndrome = list(result.keys())[0]\n",
        "            syndromes.append(syndrome)\n",
        "\n",
        "    return pd.DataFrame({\"Syndrome\": syndromes}, index=pd.Index(labels, name=\"Single Qubit Error\"))"
      ],
      "metadata": {
        "id": "Wmsw4gJDzZj1"
      },
      "execution_count": null,
      "outputs": []
    },
    {
      "cell_type": "code",
      "source": [
        "df = iterate_single_qubit_errors()\n",
        "print(df)"
      ],
      "metadata": {
        "colab": {
          "base_uri": "https://localhost:8080/"
        },
        "id": "l808QtwN0KuJ",
        "outputId": "e2e3b621-b026-4bc7-a303-baa711fd7f41"
      },
      "execution_count": null,
      "outputs": [
        {
          "output_type": "stream",
          "name": "stdout",
          "text": [
            "                   Syndrome\n",
            "Single Qubit Error         \n",
            "X[0]                   1000\n",
            "X[1]                   0101\n",
            "X[2]                   1010\n",
            "X[3]                   0100\n",
            "X[4]                   0011\n",
            "Z[0]                   0110\n",
            "Z[1]                   0010\n",
            "Z[2]                   0001\n",
            "Z[3]                   1001\n",
            "Z[4]                   1100\n",
            "Y[0]                   1110\n",
            "Y[1]                   0111\n",
            "Y[2]                   1011\n",
            "Y[3]                   1101\n",
            "Y[4]                   1111\n"
          ]
        }
      ]
    },
    {
      "cell_type": "code",
      "source": [
        "\"\"\"\n",
        "Demonstration of Single-Qubit Error Correction (Syndrome Detection Only):\n",
        "\n",
        "This function encodes a logical |0⟩ state using a 5-qubit quantum error correction\n",
        "code, injects a random single-qubit Pauli error (X, Y, or Z), and extracts the\n",
        "stabilizer syndrome using ancilla qubits. The syndrome indicates the type and\n",
        "location of the error.\n",
        "\n",
        "Due to backend limitations (lack of support for `if_test`, `c_if` is deprecated),\n",
        "the circuit does not apply conditional correction in the same circuit.\n",
        "Instead, the same error is manually re-applied and corrected in a separate\n",
        "recovery circuit to simulate the effect of syndrome-based correction.\n",
        "\"\"\"\n",
        "\n",
        "\n",
        "def apply_correction(circ, pauli, qubit):\n",
        "    getattr(circ, pauli)(qubit)\n",
        "\n",
        "def demonstrate_single_error_correction():\n",
        "    backend = QasmSimulator()\n",
        "    paulis = ['x', 'y', 'z']\n",
        "    error_type = np.random.choice(paulis)\n",
        "    qubit_idx = np.random.randint(0, 5)\n",
        "\n",
        "    anc = QuantumRegister(4, name=\"a\")\n",
        "    data = QuantumRegister(5, name=\"q\")\n",
        "    creg = ClassicalRegister(4)\n",
        "    qc = QuantumCircuit(anc, data, creg)\n",
        "\n",
        "    initialize_logical_state(qc, data, alpha=1, beta=0)\n",
        "    qc.barrier()\n",
        "\n",
        "    getattr(qc, error_type)(data[qubit_idx])\n",
        "    qc.barrier()\n",
        "\n",
        "    qc.h(anc)\n",
        "    apply_stabilizers(qc, anc, data)\n",
        "    qc.h(anc)\n",
        "    qc.measure(anc, creg)\n",
        "\n",
        "    job = backend.run(transpile(qc, backend), shots=128)\n",
        "    result = job.result().get_counts()\n",
        "    syndrome = list(result.keys())[0]\n",
        "\n",
        "    # Apply correction\n",
        "    qc_correct = QuantumCircuit(anc, data, creg)\n",
        "    initialize_logical_state(qc_correct, data, alpha=1, beta=0)\n",
        "    getattr(qc_correct, error_type)(data[qubit_idx])\n",
        "    apply_correction(qc_correct, error_type, data[qubit_idx])\n",
        "    qc_correct.h(anc)\n",
        "    apply_stabilizers(qc_correct, anc, data)\n",
        "    qc_correct.h(anc)\n",
        "    qc_correct.measure(anc, creg)\n",
        "\n",
        "    job_correct = backend.run(transpile(qc_correct, backend), shots=128)\n",
        "    result_corrected = job_correct.result().get_counts()\n",
        "    corrected_syndrome = list(result_corrected.keys())[0]\n",
        "\n",
        "    print(f\"Injected error: {error_type.upper()} on qubit {qubit_idx}\")\n",
        "    print(f\"Syndrome before correction: {syndrome}\")\n",
        "    print(f\"Syndrome after correction:  {corrected_syndrome}\")\n",
        "demonstrate_single_error_correction()"
      ],
      "metadata": {
        "colab": {
          "base_uri": "https://localhost:8080/"
        },
        "id": "XIPVkpUlz0aH",
        "outputId": "e12246f2-f3cd-492c-9e1d-9849fe3ce2e6"
      },
      "execution_count": null,
      "outputs": [
        {
          "output_type": "stream",
          "name": "stdout",
          "text": [
            "Injected error: Z on qubit 4\n",
            "Syndrome before correction: 1100\n",
            "Syndrome after correction:  0000\n"
          ]
        }
      ]
    }
  ]
}